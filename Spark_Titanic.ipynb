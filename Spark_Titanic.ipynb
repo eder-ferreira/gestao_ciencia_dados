{
  "cells": [
    {
      "cell_type": "markdown",
      "metadata": {
        "id": "view-in-github",
        "colab_type": "text"
      },
      "source": [
        "<a href=\"https://colab.research.google.com/github/eder-ferreira/gestao_ciencia_dados/blob/main/Spark_Titanic.ipynb\" target=\"_parent\"><img src=\"https://colab.research.google.com/assets/colab-badge.svg\" alt=\"Open In Colab\"/></a>"
      ]
    },
    {
      "cell_type": "markdown",
      "metadata": {
        "id": "5MS3xaSl1Zk1"
      },
      "source": [
        "## Carregamento de Dados"
      ]
    },
    {
      "cell_type": "code",
      "execution_count": null,
      "metadata": {
        "id": "ex7TnyG4ZPbY"
      },
      "outputs": [],
      "source": [
        "# Passo 1: Instalar Java e Spark\n",
        "# instalar as dependências\n",
        "!apt-get update -qq\n",
        "!apt-get install openjdk-8-jdk-headless -qq > /dev/null\n",
        "!wget -q https://archive.apache.org/dist/spark/spark-3.1.2/spark-3.1.2-bin-hadoop2.7.tgz\n",
        "!tar xf spark-3.1.2-bin-hadoop2.7.tgz\n",
        "!pip install -q findspark"
      ]
    },
    {
      "cell_type": "code",
      "execution_count": null,
      "metadata": {
        "id": "FisRfHwvaMtP"
      },
      "outputs": [],
      "source": [
        "# Passo 2: Definir Variáveis de Ambiente\n",
        "# Conectar ao ambiente de execução\n",
        "import os\n",
        "os.environ[\"JAVA_HOME\"] = \"/usr/lib/jvm/java-8-openjdk-amd64\"\n",
        "os.environ[\"SPARK_HOME\"] = \"/content/spark-3.1.2-bin-hadoop2.7\"\n",
        "\n",
        "import findspark\n",
        "findspark.init()"
      ]
    },
    {
      "cell_type": "markdown",
      "metadata": {
        "id": "2Nwp06XV1fCu"
      },
      "source": [
        "## Acessando o Spark UI (Google Colab)"
      ]
    },
    {
      "cell_type": "code",
      "execution_count": null,
      "metadata": {
        "id": "vlihOjaiaQm5"
      },
      "outputs": [],
      "source": [
        "# Passo 3: Inicializar SparkSession\n",
        "# Cria uma sessão do Spark\n",
        "from pyspark.sql import SparkSession\n",
        "\n",
        "spark = SparkSession.builder \\\n",
        "    .master('local[*]') \\\n",
        "    .appName(\"Iniciando com Spark\") \\\n",
        "    .config('spark.ui.port', '4050') \\\n",
        "    .getOrCreate()"
      ]
    },
    {
      "cell_type": "code",
      "execution_count": null,
      "metadata": {
        "id": "AggF0zslK9Yc",
        "colab": {
          "base_uri": "https://localhost:8080/",
          "height": 35
        },
        "outputId": "85905fdb-9f67-4e44-ff09-bfea6dd0333e"
      },
      "outputs": [
        {
          "output_type": "execute_result",
          "data": {
            "text/plain": [
              "'3.1.2'"
            ],
            "application/vnd.google.colaboratory.intrinsic+json": {
              "type": "string"
            }
          },
          "metadata": {},
          "execution_count": 4
        }
      ],
      "source": [
        "# Passo 4: Verificar Instalação do Spark\n",
        "spark.version"
      ]
    },
    {
      "cell_type": "code",
      "execution_count": null,
      "metadata": {
        "id": "k1f86fi4OJPu",
        "colab": {
          "base_uri": "https://localhost:8080/"
        },
        "outputId": "896f6059-9bac-478c-bd4d-2eee800fc459"
      },
      "outputs": [
        {
          "output_type": "stream",
          "name": "stdout",
          "text": [
            "Archive:  ngrok-stable-linux-amd64.zip\n",
            "  inflating: ngrok                   \n"
          ]
        }
      ],
      "source": [
        "# Passo 5: conexão do SparkUI usando o Ngrok\n",
        "# usar o Ngrok para acessar o SparkUI no Google Colab\n",
        "\n",
        "!wget -q https://bin.equinox.io/c/4VmDzA7iaHb/ngrok-stable-linux-amd64.zip\n",
        "!unzip ngrok-stable-linux-amd64.zip"
      ]
    },
    {
      "cell_type": "code",
      "execution_count": 10,
      "metadata": {
        "id": "e1VSr7p4a3is",
        "colab": {
          "base_uri": "https://localhost:8080/"
        },
        "outputId": "84d9b518-4a74-41c3-a1ff-1dabf7fc4f5e"
      },
      "outputs": [
        {
          "output_type": "stream",
          "name": "stdout",
          "text": [
            "Requirement already satisfied: pyngrok in /usr/local/lib/python3.10/dist-packages (7.1.6)\n",
            "Requirement already satisfied: PyYAML>=5.1 in /usr/local/lib/python3.10/dist-packages (from pyngrok) (6.0.1)\n",
            "Authtoken saved to configuration file: /root/.config/ngrok/ngrok.yml\n"
          ]
        }
      ],
      "source": [
        "# Passo 6: Importar o Ngrok para o projeto\n",
        "# Instala o Ngrok para acessar o Spark UI no Google Colab.\n",
        "\n",
        "# Importar o pyngrok\n",
        "!pip install pyngrok\n",
        "from pyngrok import ngrok\n",
        "\n",
        "# Inserir seu token\n",
        "!ngrok authtoken \"2iTbbO2nKhjPS0KUYWiNJehKgaZ_5VHNZJ3wUAUbToHk5Yc9h\""
      ]
    },
    {
      "cell_type": "code",
      "execution_count": 11,
      "metadata": {
        "id": "-Bj6ZkKKbQF2",
        "colab": {
          "base_uri": "https://localhost:8080/"
        },
        "outputId": "f207f983-23bc-4d9a-bd2e-05af4c7074e3"
      },
      "outputs": [
        {
          "output_type": "execute_result",
          "data": {
            "text/plain": [
              "<NgrokTunnel: \"https://8828-34-139-177-112.ngrok-free.app\" -> \"http://localhost:4050\">"
            ]
          },
          "metadata": {},
          "execution_count": 11
        }
      ],
      "source": [
        "# Passo 7: Conectar Ngrok\n",
        "# Conecta o Ngrok à porta 4050, permitindo acessar o Spark UI remotamente.\n",
        "\n",
        "ngrok.connect('4050')"
      ]
    },
    {
      "cell_type": "markdown",
      "metadata": {
        "id": "vSf6cn_0nS28"
      },
      "source": [
        "## Montando o drive"
      ]
    },
    {
      "cell_type": "code",
      "execution_count": 12,
      "metadata": {
        "id": "q39kaNQTboTg",
        "colab": {
          "base_uri": "https://localhost:8080/"
        },
        "outputId": "f4b84d45-1fc6-45ce-d65a-a9b5e7c6f16d"
      },
      "outputs": [
        {
          "output_type": "stream",
          "name": "stdout",
          "text": [
            "Mounted at /content/drive\n"
          ]
        }
      ],
      "source": [
        "# Passo 8: Monta o Google Drive para acessar arquivos de dados\n",
        "from google.colab import drive\n",
        "drive.mount('/content/drive')"
      ]
    },
    {
      "cell_type": "code",
      "execution_count": 13,
      "metadata": {
        "id": "_ZXoXEjwcf2m"
      },
      "outputs": [],
      "source": [
        "# Passo 9: Extrai os dados do Titanic de um arquivo ZIP no Google Drive.\n",
        "import zipfile\n",
        "\n",
        "zipfile.ZipFile('/content/drive/MyDrive/UFMT/spark_titanic/TitanicDataset.zip','r').extractall('/content/drive/MyDrive/UFMT/spark_titanic/')"
      ]
    },
    {
      "cell_type": "markdown",
      "metadata": {
        "id": "QKsY1H3anerQ"
      },
      "source": [
        "## Carregando os dados"
      ]
    },
    {
      "cell_type": "code",
      "execution_count": 14,
      "metadata": {
        "id": "YxAnsZJRhQOS",
        "colab": {
          "base_uri": "https://localhost:8080/"
        },
        "outputId": "05efb6f1-26dd-4e2d-d47c-30b929db8541"
      },
      "outputs": [
        {
          "output_type": "stream",
          "name": "stdout",
          "text": [
            "+-----------+--------+------+--------------------+------+----+-----+-----+----------------+-------+-----+--------+\n",
            "|PassengerId|Survived|Pclass|                Name|   Sex| Age|SibSp|Parch|          Ticket|   Fare|Cabin|Embarked|\n",
            "+-----------+--------+------+--------------------+------+----+-----+-----+----------------+-------+-----+--------+\n",
            "|          1|       0|     3|Braund, Mr. Owen ...|  male|22.0|    1|    0|       A/5 21171|   7.25| null|       S|\n",
            "|          2|       1|     1|Cumings, Mrs. Joh...|female|38.0|    1|    0|        PC 17599|71.2833|  C85|       C|\n",
            "|          3|       1|     3|Heikkinen, Miss. ...|female|26.0|    0|    0|STON/O2. 3101282|  7.925| null|       S|\n",
            "|          4|       1|     1|Futrelle, Mrs. Ja...|female|35.0|    1|    0|          113803|   53.1| C123|       S|\n",
            "|          5|       0|     3|Allen, Mr. Willia...|  male|35.0|    0|    0|          373450|   8.05| null|       S|\n",
            "|          6|       0|     3|    Moran, Mr. James|  male|null|    0|    0|          330877| 8.4583| null|       Q|\n",
            "|          7|       0|     1|McCarthy, Mr. Tim...|  male|54.0|    0|    0|           17463|51.8625|  E46|       S|\n",
            "|          8|       0|     3|Palsson, Master. ...|  male| 2.0|    3|    1|          349909| 21.075| null|       S|\n",
            "|          9|       1|     3|Johnson, Mrs. Osc...|female|27.0|    0|    2|          347742|11.1333| null|       S|\n",
            "|         10|       1|     2|Nasser, Mrs. Nich...|female|14.0|    1|    0|          237736|30.0708| null|       C|\n",
            "|         11|       1|     3|Sandstrom, Miss. ...|female| 4.0|    1|    1|         PP 9549|   16.7|   G6|       S|\n",
            "|         12|       1|     1|Bonnell, Miss. El...|female|58.0|    0|    0|          113783|  26.55| C103|       S|\n",
            "|         13|       0|     3|Saundercock, Mr. ...|  male|20.0|    0|    0|       A/5. 2151|   8.05| null|       S|\n",
            "|         14|       0|     3|Andersson, Mr. An...|  male|39.0|    1|    5|          347082| 31.275| null|       S|\n",
            "|         15|       0|     3|Vestrom, Miss. Hu...|female|14.0|    0|    0|          350406| 7.8542| null|       S|\n",
            "|         16|       1|     2|Hewlett, Mrs. (Ma...|female|55.0|    0|    0|          248706|   16.0| null|       S|\n",
            "|         17|       0|     3|Rice, Master. Eugene|  male| 2.0|    4|    1|          382652| 29.125| null|       Q|\n",
            "|         18|       1|     2|Williams, Mr. Cha...|  male|null|    0|    0|          244373|   13.0| null|       S|\n",
            "|         19|       0|     3|Vander Planke, Mr...|female|31.0|    1|    0|          345763|   18.0| null|       S|\n",
            "|         20|       1|     3|Masselmani, Mrs. ...|female|null|    0|    0|            2649|  7.225| null|       C|\n",
            "+-----------+--------+------+--------------------+------+----+-----+-----+----------------+-------+-----+--------+\n",
            "only showing top 20 rows\n",
            "\n",
            "Total de registros => 891\n"
          ]
        }
      ],
      "source": [
        "# Passo 10: Carrega os dados do Titanic em um DataFrame do Spark.\n",
        "\n",
        "# Definir o caminho do arquivo\n",
        "\n",
        "path = '/content/drive/MyDrive/UFMT/spark_titanic/TitanicDataset.csv'\n",
        "\n",
        "# Carregar o arquivo CSV no Spark DataFrame\n",
        "TitanicDataset = spark.read.csv(path, header=True, sep=',', inferSchema=True)\n",
        "\n",
        "# Mostrar as primeiras linhas do DataFrame\n",
        "TitanicDataset.show()\n",
        "\n",
        "# Contar o número total de registros\n",
        "cont_dataset = TitanicDataset.count()\n",
        "print(\"Total de registros =>\", cont_dataset)"
      ]
    },
    {
      "cell_type": "markdown",
      "metadata": {
        "id": "Du8XK5USnyY6"
      },
      "source": [
        "## Analisando os dados"
      ]
    },
    {
      "cell_type": "code",
      "execution_count": 15,
      "metadata": {
        "id": "eNjWdQBHl9fW",
        "colab": {
          "base_uri": "https://localhost:8080/"
        },
        "outputId": "2ba2d55b-9dcd-4768-88c1-7bb2c7b1ea7e"
      },
      "outputs": [
        {
          "output_type": "stream",
          "name": "stdout",
          "text": [
            "root\n",
            " |-- PassengerId: integer (nullable = true)\n",
            " |-- Survived: integer (nullable = true)\n",
            " |-- Pclass: integer (nullable = true)\n",
            " |-- Name: string (nullable = true)\n",
            " |-- Sex: string (nullable = true)\n",
            " |-- Age: double (nullable = true)\n",
            " |-- SibSp: integer (nullable = true)\n",
            " |-- Parch: integer (nullable = true)\n",
            " |-- Ticket: string (nullable = true)\n",
            " |-- Fare: double (nullable = true)\n",
            " |-- Cabin: string (nullable = true)\n",
            " |-- Embarked: string (nullable = true)\n",
            "\n"
          ]
        }
      ],
      "source": [
        "# Mostrar o Schema\n",
        "TitanicDataset.printSchema()"
      ]
    },
    {
      "cell_type": "markdown",
      "metadata": {
        "id": "qq05Lnmjnler"
      },
      "source": [
        "## Manipulando os dados"
      ]
    },
    {
      "cell_type": "code",
      "execution_count": 16,
      "metadata": {
        "id": "KEqPVOPW9_tN",
        "colab": {
          "base_uri": "https://localhost:8080/"
        },
        "outputId": "2a8582c3-b959-4f20-870a-59e42812908f"
      },
      "outputs": [
        {
          "output_type": "stream",
          "name": "stdout",
          "text": [
            "+------------+------------+--------------+--------------------+------+-----+----------------+------------+----------------+-------+------+-------------+\n",
            "|IDpassageiro|Sobrevivente|ClassePassagem|                Nome|Genero|Idade|NrIrmaosConjuges|NrPaisFilhos|        NrTicket| Tarifa|Cabine|PortoEmbarque|\n",
            "+------------+------------+--------------+--------------------+------+-----+----------------+------------+----------------+-------+------+-------------+\n",
            "|           1|           0|             3|Braund, Mr. Owen ...|  male| 22.0|               1|           0|       A/5 21171|   7.25|  null|            S|\n",
            "|           2|           1|             1|Cumings, Mrs. Joh...|female| 38.0|               1|           0|        PC 17599|71.2833|   C85|            C|\n",
            "|           3|           1|             3|Heikkinen, Miss. ...|female| 26.0|               0|           0|STON/O2. 3101282|  7.925|  null|            S|\n",
            "|           4|           1|             1|Futrelle, Mrs. Ja...|female| 35.0|               1|           0|          113803|   53.1|  C123|            S|\n",
            "|           5|           0|             3|Allen, Mr. Willia...|  male| 35.0|               0|           0|          373450|   8.05|  null|            S|\n",
            "|           6|           0|             3|    Moran, Mr. James|  male| null|               0|           0|          330877| 8.4583|  null|            Q|\n",
            "|           7|           0|             1|McCarthy, Mr. Tim...|  male| 54.0|               0|           0|           17463|51.8625|   E46|            S|\n",
            "|           8|           0|             3|Palsson, Master. ...|  male|  2.0|               3|           1|          349909| 21.075|  null|            S|\n",
            "|           9|           1|             3|Johnson, Mrs. Osc...|female| 27.0|               0|           2|          347742|11.1333|  null|            S|\n",
            "|          10|           1|             2|Nasser, Mrs. Nich...|female| 14.0|               1|           0|          237736|30.0708|  null|            C|\n",
            "|          11|           1|             3|Sandstrom, Miss. ...|female|  4.0|               1|           1|         PP 9549|   16.7|    G6|            S|\n",
            "|          12|           1|             1|Bonnell, Miss. El...|female| 58.0|               0|           0|          113783|  26.55|  C103|            S|\n",
            "|          13|           0|             3|Saundercock, Mr. ...|  male| 20.0|               0|           0|       A/5. 2151|   8.05|  null|            S|\n",
            "|          14|           0|             3|Andersson, Mr. An...|  male| 39.0|               1|           5|          347082| 31.275|  null|            S|\n",
            "|          15|           0|             3|Vestrom, Miss. Hu...|female| 14.0|               0|           0|          350406| 7.8542|  null|            S|\n",
            "|          16|           1|             2|Hewlett, Mrs. (Ma...|female| 55.0|               0|           0|          248706|   16.0|  null|            S|\n",
            "|          17|           0|             3|Rice, Master. Eugene|  male|  2.0|               4|           1|          382652| 29.125|  null|            Q|\n",
            "|          18|           1|             2|Williams, Mr. Cha...|  male| null|               0|           0|          244373|   13.0|  null|            S|\n",
            "|          19|           0|             3|Vander Planke, Mr...|female| 31.0|               1|           0|          345763|   18.0|  null|            S|\n",
            "|          20|           1|             3|Masselmani, Mrs. ...|female| null|               0|           0|            2649|  7.225|  null|            C|\n",
            "+------------+------------+--------------+--------------------+------+-----+----------------+------------+----------------+-------+------+-------------+\n",
            "only showing top 20 rows\n",
            "\n"
          ]
        }
      ],
      "source": [
        "# Definir a lista de novos nomes de colunas\n",
        "titanicColNames = [\"IDpassageiro\", \"Sobrevivente\", \"ClassePassagem\", \"Nome\", \"Genero\", \"Idade\",\n",
        "                   \"NrIrmaosConjuges\", \"NrPaisFilhos\", \"NrTicket\", \"Tarifa\", \"Cabine\", \"PortoEmbarque\"]\n",
        "\n",
        "# Renomear as colunas do DataFrame\n",
        "for old_name, new_name in zip(TitanicDataset.columns, titanicColNames):\n",
        "    TitanicDataset = TitanicDataset.withColumnRenamed(old_name, new_name)\n",
        "\n",
        "# Mostrar as primeiras linhas do DataFrame com os novos nomes de colunas\n",
        "TitanicDataset.show()"
      ]
    },
    {
      "cell_type": "code",
      "execution_count": 17,
      "metadata": {
        "id": "t_xh_dkU9J9D",
        "colab": {
          "base_uri": "https://localhost:8080/",
          "height": 310
        },
        "outputId": "ac475634-c93d-4361-8360-31aae98c0571"
      },
      "outputs": [
        {
          "output_type": "execute_result",
          "data": {
            "text/plain": [
              "   IDpassageiro  Sobrevivente  ClassePassagem  \\\n",
              "0             1             0               3   \n",
              "1             2             1               1   \n",
              "2             3             1               3   \n",
              "3             4             1               1   \n",
              "4             5             0               3   \n",
              "\n",
              "                                                Nome  Genero  Idade  \\\n",
              "0                            Braund, Mr. Owen Harris    male   22.0   \n",
              "1  Cumings, Mrs. John Bradley (Florence Briggs Th...  female   38.0   \n",
              "2                             Heikkinen, Miss. Laina  female   26.0   \n",
              "3       Futrelle, Mrs. Jacques Heath (Lily May Peel)  female   35.0   \n",
              "4                           Allen, Mr. William Henry    male   35.0   \n",
              "\n",
              "   NrIrmaosConjuges  NrPaisFilhos          NrTicket   Tarifa Cabine  \\\n",
              "0                 1             0         A/5 21171   7.2500   None   \n",
              "1                 1             0          PC 17599  71.2833    C85   \n",
              "2                 0             0  STON/O2. 3101282   7.9250   None   \n",
              "3                 1             0            113803  53.1000   C123   \n",
              "4                 0             0            373450   8.0500   None   \n",
              "\n",
              "  PortoEmbarque  \n",
              "0             S  \n",
              "1             C  \n",
              "2             S  \n",
              "3             S  \n",
              "4             S  "
            ],
            "text/html": [
              "\n",
              "  <div id=\"df-b281fac5-e4e8-4714-b74c-ea6e82feb330\" class=\"colab-df-container\">\n",
              "    <div>\n",
              "<style scoped>\n",
              "    .dataframe tbody tr th:only-of-type {\n",
              "        vertical-align: middle;\n",
              "    }\n",
              "\n",
              "    .dataframe tbody tr th {\n",
              "        vertical-align: top;\n",
              "    }\n",
              "\n",
              "    .dataframe thead th {\n",
              "        text-align: right;\n",
              "    }\n",
              "</style>\n",
              "<table border=\"1\" class=\"dataframe\">\n",
              "  <thead>\n",
              "    <tr style=\"text-align: right;\">\n",
              "      <th></th>\n",
              "      <th>IDpassageiro</th>\n",
              "      <th>Sobrevivente</th>\n",
              "      <th>ClassePassagem</th>\n",
              "      <th>Nome</th>\n",
              "      <th>Genero</th>\n",
              "      <th>Idade</th>\n",
              "      <th>NrIrmaosConjuges</th>\n",
              "      <th>NrPaisFilhos</th>\n",
              "      <th>NrTicket</th>\n",
              "      <th>Tarifa</th>\n",
              "      <th>Cabine</th>\n",
              "      <th>PortoEmbarque</th>\n",
              "    </tr>\n",
              "  </thead>\n",
              "  <tbody>\n",
              "    <tr>\n",
              "      <th>0</th>\n",
              "      <td>1</td>\n",
              "      <td>0</td>\n",
              "      <td>3</td>\n",
              "      <td>Braund, Mr. Owen Harris</td>\n",
              "      <td>male</td>\n",
              "      <td>22.0</td>\n",
              "      <td>1</td>\n",
              "      <td>0</td>\n",
              "      <td>A/5 21171</td>\n",
              "      <td>7.2500</td>\n",
              "      <td>None</td>\n",
              "      <td>S</td>\n",
              "    </tr>\n",
              "    <tr>\n",
              "      <th>1</th>\n",
              "      <td>2</td>\n",
              "      <td>1</td>\n",
              "      <td>1</td>\n",
              "      <td>Cumings, Mrs. John Bradley (Florence Briggs Th...</td>\n",
              "      <td>female</td>\n",
              "      <td>38.0</td>\n",
              "      <td>1</td>\n",
              "      <td>0</td>\n",
              "      <td>PC 17599</td>\n",
              "      <td>71.2833</td>\n",
              "      <td>C85</td>\n",
              "      <td>C</td>\n",
              "    </tr>\n",
              "    <tr>\n",
              "      <th>2</th>\n",
              "      <td>3</td>\n",
              "      <td>1</td>\n",
              "      <td>3</td>\n",
              "      <td>Heikkinen, Miss. Laina</td>\n",
              "      <td>female</td>\n",
              "      <td>26.0</td>\n",
              "      <td>0</td>\n",
              "      <td>0</td>\n",
              "      <td>STON/O2. 3101282</td>\n",
              "      <td>7.9250</td>\n",
              "      <td>None</td>\n",
              "      <td>S</td>\n",
              "    </tr>\n",
              "    <tr>\n",
              "      <th>3</th>\n",
              "      <td>4</td>\n",
              "      <td>1</td>\n",
              "      <td>1</td>\n",
              "      <td>Futrelle, Mrs. Jacques Heath (Lily May Peel)</td>\n",
              "      <td>female</td>\n",
              "      <td>35.0</td>\n",
              "      <td>1</td>\n",
              "      <td>0</td>\n",
              "      <td>113803</td>\n",
              "      <td>53.1000</td>\n",
              "      <td>C123</td>\n",
              "      <td>S</td>\n",
              "    </tr>\n",
              "    <tr>\n",
              "      <th>4</th>\n",
              "      <td>5</td>\n",
              "      <td>0</td>\n",
              "      <td>3</td>\n",
              "      <td>Allen, Mr. William Henry</td>\n",
              "      <td>male</td>\n",
              "      <td>35.0</td>\n",
              "      <td>0</td>\n",
              "      <td>0</td>\n",
              "      <td>373450</td>\n",
              "      <td>8.0500</td>\n",
              "      <td>None</td>\n",
              "      <td>S</td>\n",
              "    </tr>\n",
              "  </tbody>\n",
              "</table>\n",
              "</div>\n",
              "    <div class=\"colab-df-buttons\">\n",
              "\n",
              "  <div class=\"colab-df-container\">\n",
              "    <button class=\"colab-df-convert\" onclick=\"convertToInteractive('df-b281fac5-e4e8-4714-b74c-ea6e82feb330')\"\n",
              "            title=\"Convert this dataframe to an interactive table.\"\n",
              "            style=\"display:none;\">\n",
              "\n",
              "  <svg xmlns=\"http://www.w3.org/2000/svg\" height=\"24px\" viewBox=\"0 -960 960 960\">\n",
              "    <path d=\"M120-120v-720h720v720H120Zm60-500h600v-160H180v160Zm220 220h160v-160H400v160Zm0 220h160v-160H400v160ZM180-400h160v-160H180v160Zm440 0h160v-160H620v160ZM180-180h160v-160H180v160Zm440 0h160v-160H620v160Z\"/>\n",
              "  </svg>\n",
              "    </button>\n",
              "\n",
              "  <style>\n",
              "    .colab-df-container {\n",
              "      display:flex;\n",
              "      gap: 12px;\n",
              "    }\n",
              "\n",
              "    .colab-df-convert {\n",
              "      background-color: #E8F0FE;\n",
              "      border: none;\n",
              "      border-radius: 50%;\n",
              "      cursor: pointer;\n",
              "      display: none;\n",
              "      fill: #1967D2;\n",
              "      height: 32px;\n",
              "      padding: 0 0 0 0;\n",
              "      width: 32px;\n",
              "    }\n",
              "\n",
              "    .colab-df-convert:hover {\n",
              "      background-color: #E2EBFA;\n",
              "      box-shadow: 0px 1px 2px rgba(60, 64, 67, 0.3), 0px 1px 3px 1px rgba(60, 64, 67, 0.15);\n",
              "      fill: #174EA6;\n",
              "    }\n",
              "\n",
              "    .colab-df-buttons div {\n",
              "      margin-bottom: 4px;\n",
              "    }\n",
              "\n",
              "    [theme=dark] .colab-df-convert {\n",
              "      background-color: #3B4455;\n",
              "      fill: #D2E3FC;\n",
              "    }\n",
              "\n",
              "    [theme=dark] .colab-df-convert:hover {\n",
              "      background-color: #434B5C;\n",
              "      box-shadow: 0px 1px 3px 1px rgba(0, 0, 0, 0.15);\n",
              "      filter: drop-shadow(0px 1px 2px rgba(0, 0, 0, 0.3));\n",
              "      fill: #FFFFFF;\n",
              "    }\n",
              "  </style>\n",
              "\n",
              "    <script>\n",
              "      const buttonEl =\n",
              "        document.querySelector('#df-b281fac5-e4e8-4714-b74c-ea6e82feb330 button.colab-df-convert');\n",
              "      buttonEl.style.display =\n",
              "        google.colab.kernel.accessAllowed ? 'block' : 'none';\n",
              "\n",
              "      async function convertToInteractive(key) {\n",
              "        const element = document.querySelector('#df-b281fac5-e4e8-4714-b74c-ea6e82feb330');\n",
              "        const dataTable =\n",
              "          await google.colab.kernel.invokeFunction('convertToInteractive',\n",
              "                                                    [key], {});\n",
              "        if (!dataTable) return;\n",
              "\n",
              "        const docLinkHtml = 'Like what you see? Visit the ' +\n",
              "          '<a target=\"_blank\" href=https://colab.research.google.com/notebooks/data_table.ipynb>data table notebook</a>'\n",
              "          + ' to learn more about interactive tables.';\n",
              "        element.innerHTML = '';\n",
              "        dataTable['output_type'] = 'display_data';\n",
              "        await google.colab.output.renderOutput(dataTable, element);\n",
              "        const docLink = document.createElement('div');\n",
              "        docLink.innerHTML = docLinkHtml;\n",
              "        element.appendChild(docLink);\n",
              "      }\n",
              "    </script>\n",
              "  </div>\n",
              "\n",
              "\n",
              "<div id=\"df-9b474306-3a97-4983-af97-65a8617051e7\">\n",
              "  <button class=\"colab-df-quickchart\" onclick=\"quickchart('df-9b474306-3a97-4983-af97-65a8617051e7')\"\n",
              "            title=\"Suggest charts\"\n",
              "            style=\"display:none;\">\n",
              "\n",
              "<svg xmlns=\"http://www.w3.org/2000/svg\" height=\"24px\"viewBox=\"0 0 24 24\"\n",
              "     width=\"24px\">\n",
              "    <g>\n",
              "        <path d=\"M19 3H5c-1.1 0-2 .9-2 2v14c0 1.1.9 2 2 2h14c1.1 0 2-.9 2-2V5c0-1.1-.9-2-2-2zM9 17H7v-7h2v7zm4 0h-2V7h2v10zm4 0h-2v-4h2v4z\"/>\n",
              "    </g>\n",
              "</svg>\n",
              "  </button>\n",
              "\n",
              "<style>\n",
              "  .colab-df-quickchart {\n",
              "      --bg-color: #E8F0FE;\n",
              "      --fill-color: #1967D2;\n",
              "      --hover-bg-color: #E2EBFA;\n",
              "      --hover-fill-color: #174EA6;\n",
              "      --disabled-fill-color: #AAA;\n",
              "      --disabled-bg-color: #DDD;\n",
              "  }\n",
              "\n",
              "  [theme=dark] .colab-df-quickchart {\n",
              "      --bg-color: #3B4455;\n",
              "      --fill-color: #D2E3FC;\n",
              "      --hover-bg-color: #434B5C;\n",
              "      --hover-fill-color: #FFFFFF;\n",
              "      --disabled-bg-color: #3B4455;\n",
              "      --disabled-fill-color: #666;\n",
              "  }\n",
              "\n",
              "  .colab-df-quickchart {\n",
              "    background-color: var(--bg-color);\n",
              "    border: none;\n",
              "    border-radius: 50%;\n",
              "    cursor: pointer;\n",
              "    display: none;\n",
              "    fill: var(--fill-color);\n",
              "    height: 32px;\n",
              "    padding: 0;\n",
              "    width: 32px;\n",
              "  }\n",
              "\n",
              "  .colab-df-quickchart:hover {\n",
              "    background-color: var(--hover-bg-color);\n",
              "    box-shadow: 0 1px 2px rgba(60, 64, 67, 0.3), 0 1px 3px 1px rgba(60, 64, 67, 0.15);\n",
              "    fill: var(--button-hover-fill-color);\n",
              "  }\n",
              "\n",
              "  .colab-df-quickchart-complete:disabled,\n",
              "  .colab-df-quickchart-complete:disabled:hover {\n",
              "    background-color: var(--disabled-bg-color);\n",
              "    fill: var(--disabled-fill-color);\n",
              "    box-shadow: none;\n",
              "  }\n",
              "\n",
              "  .colab-df-spinner {\n",
              "    border: 2px solid var(--fill-color);\n",
              "    border-color: transparent;\n",
              "    border-bottom-color: var(--fill-color);\n",
              "    animation:\n",
              "      spin 1s steps(1) infinite;\n",
              "  }\n",
              "\n",
              "  @keyframes spin {\n",
              "    0% {\n",
              "      border-color: transparent;\n",
              "      border-bottom-color: var(--fill-color);\n",
              "      border-left-color: var(--fill-color);\n",
              "    }\n",
              "    20% {\n",
              "      border-color: transparent;\n",
              "      border-left-color: var(--fill-color);\n",
              "      border-top-color: var(--fill-color);\n",
              "    }\n",
              "    30% {\n",
              "      border-color: transparent;\n",
              "      border-left-color: var(--fill-color);\n",
              "      border-top-color: var(--fill-color);\n",
              "      border-right-color: var(--fill-color);\n",
              "    }\n",
              "    40% {\n",
              "      border-color: transparent;\n",
              "      border-right-color: var(--fill-color);\n",
              "      border-top-color: var(--fill-color);\n",
              "    }\n",
              "    60% {\n",
              "      border-color: transparent;\n",
              "      border-right-color: var(--fill-color);\n",
              "    }\n",
              "    80% {\n",
              "      border-color: transparent;\n",
              "      border-right-color: var(--fill-color);\n",
              "      border-bottom-color: var(--fill-color);\n",
              "    }\n",
              "    90% {\n",
              "      border-color: transparent;\n",
              "      border-bottom-color: var(--fill-color);\n",
              "    }\n",
              "  }\n",
              "</style>\n",
              "\n",
              "  <script>\n",
              "    async function quickchart(key) {\n",
              "      const quickchartButtonEl =\n",
              "        document.querySelector('#' + key + ' button');\n",
              "      quickchartButtonEl.disabled = true;  // To prevent multiple clicks.\n",
              "      quickchartButtonEl.classList.add('colab-df-spinner');\n",
              "      try {\n",
              "        const charts = await google.colab.kernel.invokeFunction(\n",
              "            'suggestCharts', [key], {});\n",
              "      } catch (error) {\n",
              "        console.error('Error during call to suggestCharts:', error);\n",
              "      }\n",
              "      quickchartButtonEl.classList.remove('colab-df-spinner');\n",
              "      quickchartButtonEl.classList.add('colab-df-quickchart-complete');\n",
              "    }\n",
              "    (() => {\n",
              "      let quickchartButtonEl =\n",
              "        document.querySelector('#df-9b474306-3a97-4983-af97-65a8617051e7 button');\n",
              "      quickchartButtonEl.style.display =\n",
              "        google.colab.kernel.accessAllowed ? 'block' : 'none';\n",
              "    })();\n",
              "  </script>\n",
              "</div>\n",
              "\n",
              "    </div>\n",
              "  </div>\n"
            ],
            "application/vnd.google.colaboratory.intrinsic+json": {
              "type": "dataframe",
              "summary": "{\n  \"name\": \"TitanicDataset\",\n  \"rows\": 5,\n  \"fields\": [\n    {\n      \"column\": \"IDpassageiro\",\n      \"properties\": {\n        \"dtype\": \"int32\",\n        \"num_unique_values\": 5,\n        \"samples\": [\n          2,\n          5,\n          3\n        ],\n        \"semantic_type\": \"\",\n        \"description\": \"\"\n      }\n    },\n    {\n      \"column\": \"Sobrevivente\",\n      \"properties\": {\n        \"dtype\": \"int32\",\n        \"num_unique_values\": 2,\n        \"samples\": [\n          1,\n          0\n        ],\n        \"semantic_type\": \"\",\n        \"description\": \"\"\n      }\n    },\n    {\n      \"column\": \"ClassePassagem\",\n      \"properties\": {\n        \"dtype\": \"int32\",\n        \"num_unique_values\": 2,\n        \"samples\": [\n          1,\n          3\n        ],\n        \"semantic_type\": \"\",\n        \"description\": \"\"\n      }\n    },\n    {\n      \"column\": \"Nome\",\n      \"properties\": {\n        \"dtype\": \"string\",\n        \"num_unique_values\": 5,\n        \"samples\": [\n          \"Cumings, Mrs. John Bradley (Florence Briggs Thayer)\",\n          \"Allen, Mr. William Henry\"\n        ],\n        \"semantic_type\": \"\",\n        \"description\": \"\"\n      }\n    },\n    {\n      \"column\": \"Genero\",\n      \"properties\": {\n        \"dtype\": \"category\",\n        \"num_unique_values\": 2,\n        \"samples\": [\n          \"female\",\n          \"male\"\n        ],\n        \"semantic_type\": \"\",\n        \"description\": \"\"\n      }\n    },\n    {\n      \"column\": \"Idade\",\n      \"properties\": {\n        \"dtype\": \"number\",\n        \"std\": 6.833739825307955,\n        \"min\": 22.0,\n        \"max\": 38.0,\n        \"num_unique_values\": 4,\n        \"samples\": [\n          38.0,\n          35.0\n        ],\n        \"semantic_type\": \"\",\n        \"description\": \"\"\n      }\n    },\n    {\n      \"column\": \"NrIrmaosConjuges\",\n      \"properties\": {\n        \"dtype\": \"int32\",\n        \"num_unique_values\": 2,\n        \"samples\": [\n          0,\n          1\n        ],\n        \"semantic_type\": \"\",\n        \"description\": \"\"\n      }\n    },\n    {\n      \"column\": \"NrPaisFilhos\",\n      \"properties\": {\n        \"dtype\": \"int32\",\n        \"num_unique_values\": 1,\n        \"samples\": [\n          0\n        ],\n        \"semantic_type\": \"\",\n        \"description\": \"\"\n      }\n    },\n    {\n      \"column\": \"NrTicket\",\n      \"properties\": {\n        \"dtype\": \"string\",\n        \"num_unique_values\": 5,\n        \"samples\": [\n          \"PC 17599\"\n        ],\n        \"semantic_type\": \"\",\n        \"description\": \"\"\n      }\n    },\n    {\n      \"column\": \"Tarifa\",\n      \"properties\": {\n        \"dtype\": \"number\",\n        \"std\": 30.5100288352535,\n        \"min\": 7.25,\n        \"max\": 71.2833,\n        \"num_unique_values\": 5,\n        \"samples\": [\n          71.2833\n        ],\n        \"semantic_type\": \"\",\n        \"description\": \"\"\n      }\n    },\n    {\n      \"column\": \"Cabine\",\n      \"properties\": {\n        \"dtype\": \"category\",\n        \"num_unique_values\": 2,\n        \"samples\": [\n          \"C123\"\n        ],\n        \"semantic_type\": \"\",\n        \"description\": \"\"\n      }\n    },\n    {\n      \"column\": \"PortoEmbarque\",\n      \"properties\": {\n        \"dtype\": \"category\",\n        \"num_unique_values\": 2,\n        \"samples\": [\n          \"C\"\n        ],\n        \"semantic_type\": \"\",\n        \"description\": \"\"\n      }\n    }\n  ]\n}"
            }
          },
          "metadata": {},
          "execution_count": 17
        }
      ],
      "source": [
        "# Mostrar o DtaFrame no pandas\n",
        "TitanicDataset.limit(5).toPandas()"
      ]
    },
    {
      "cell_type": "markdown",
      "metadata": {
        "id": "sSZbkTv_m7hu"
      },
      "source": [
        "## Modificando os tipos de dados"
      ]
    },
    {
      "cell_type": "code",
      "execution_count": 18,
      "metadata": {
        "id": "eYEhqWvhpU1p",
        "colab": {
          "base_uri": "https://localhost:8080/"
        },
        "outputId": "d58f805b-53a5-4e55-d41a-91bfadae8860"
      },
      "outputs": [
        {
          "output_type": "stream",
          "name": "stdout",
          "text": [
            "root\n",
            " |-- IDpassageiro: integer (nullable = true)\n",
            " |-- Sobrevivente: integer (nullable = true)\n",
            " |-- ClassePassagem: integer (nullable = true)\n",
            " |-- Nome: string (nullable = true)\n",
            " |-- Genero: string (nullable = true)\n",
            " |-- Idade: integer (nullable = true)\n",
            " |-- NrIrmaosConjuges: integer (nullable = true)\n",
            " |-- NrPaisFilhos: integer (nullable = true)\n",
            " |-- NrTicket: string (nullable = true)\n",
            " |-- Tarifa: double (nullable = true)\n",
            " |-- Cabine: string (nullable = true)\n",
            " |-- PortoEmbarque: string (nullable = true)\n",
            "\n",
            "+------------+------------+--------------+--------------------+------+-----+----------------+------------+----------------+-------+------+-------------+\n",
            "|IDpassageiro|Sobrevivente|ClassePassagem|                Nome|Genero|Idade|NrIrmaosConjuges|NrPaisFilhos|        NrTicket| Tarifa|Cabine|PortoEmbarque|\n",
            "+------------+------------+--------------+--------------------+------+-----+----------------+------------+----------------+-------+------+-------------+\n",
            "|           1|           0|             3|Braund, Mr. Owen ...|  male|   22|               1|           0|       A/5 21171|   7.25|  null|            S|\n",
            "|           2|           1|             1|Cumings, Mrs. Joh...|female|   38|               1|           0|        PC 17599|71.2833|   C85|            C|\n",
            "|           3|           1|             3|Heikkinen, Miss. ...|female|   26|               0|           0|STON/O2. 3101282|  7.925|  null|            S|\n",
            "|           4|           1|             1|Futrelle, Mrs. Ja...|female|   35|               1|           0|          113803|   53.1|  C123|            S|\n",
            "|           5|           0|             3|Allen, Mr. Willia...|  male|   35|               0|           0|          373450|   8.05|  null|            S|\n",
            "|           6|           0|             3|    Moran, Mr. James|  male| null|               0|           0|          330877| 8.4583|  null|            Q|\n",
            "|           7|           0|             1|McCarthy, Mr. Tim...|  male|   54|               0|           0|           17463|51.8625|   E46|            S|\n",
            "|           8|           0|             3|Palsson, Master. ...|  male|    2|               3|           1|          349909| 21.075|  null|            S|\n",
            "|           9|           1|             3|Johnson, Mrs. Osc...|female|   27|               0|           2|          347742|11.1333|  null|            S|\n",
            "|          10|           1|             2|Nasser, Mrs. Nich...|female|   14|               1|           0|          237736|30.0708|  null|            C|\n",
            "|          11|           1|             3|Sandstrom, Miss. ...|female|    4|               1|           1|         PP 9549|   16.7|    G6|            S|\n",
            "|          12|           1|             1|Bonnell, Miss. El...|female|   58|               0|           0|          113783|  26.55|  C103|            S|\n",
            "|          13|           0|             3|Saundercock, Mr. ...|  male|   20|               0|           0|       A/5. 2151|   8.05|  null|            S|\n",
            "|          14|           0|             3|Andersson, Mr. An...|  male|   39|               1|           5|          347082| 31.275|  null|            S|\n",
            "|          15|           0|             3|Vestrom, Miss. Hu...|female|   14|               0|           0|          350406| 7.8542|  null|            S|\n",
            "|          16|           1|             2|Hewlett, Mrs. (Ma...|female|   55|               0|           0|          248706|   16.0|  null|            S|\n",
            "|          17|           0|             3|Rice, Master. Eugene|  male|    2|               4|           1|          382652| 29.125|  null|            Q|\n",
            "|          18|           1|             2|Williams, Mr. Cha...|  male| null|               0|           0|          244373|   13.0|  null|            S|\n",
            "|          19|           0|             3|Vander Planke, Mr...|female|   31|               1|           0|          345763|   18.0|  null|            S|\n",
            "|          20|           1|             3|Masselmani, Mrs. ...|female| null|               0|           0|            2649|  7.225|  null|            C|\n",
            "+------------+------------+--------------+--------------------+------+-----+----------------+------------+----------------+-------+------+-------------+\n",
            "only showing top 20 rows\n",
            "\n"
          ]
        }
      ],
      "source": [
        "from pyspark.sql.functions import col, when, round\n",
        "\n",
        "# Converter a coluna 'Idade' para inteiro\n",
        "TitanicDataset = TitanicDataset.withColumn(\"Idade\", col(\"Idade\").cast(\"integer\"))\n",
        "\n",
        "# Mostrar o Schema\n",
        "TitanicDataset.printSchema()\n",
        "TitanicDataset.show()\n"
      ]
    },
    {
      "cell_type": "code",
      "execution_count": 19,
      "metadata": {
        "id": "5VmtBpt7qkRe",
        "colab": {
          "base_uri": "https://localhost:8080/"
        },
        "outputId": "8fb58d1f-60e0-429a-a1bf-3bcdd38fb168"
      },
      "outputs": [
        {
          "output_type": "stream",
          "name": "stdout",
          "text": [
            "+------------+--------------+--------------+--------------------+---------+-----+----------------+------------+----------------+------+------+-------------+\n",
            "|IDpassageiro|  Sobrevivente|ClassePassagem|                Nome|   Genero|Idade|NrIrmaosConjuges|NrPaisFilhos|        NrTicket|Tarifa|Cabine|PortoEmbarque|\n",
            "+------------+--------------+--------------+--------------------+---------+-----+----------------+------------+----------------+------+------+-------------+\n",
            "|           1|não_sobreviveu|      3°classe|Braund, Mr. Owen ...|masculino|   22|               1|           0|       A/5 21171|  7.25|  null|  southampton|\n",
            "|           2|    sobreviveu|      1°classe|Cumings, Mrs. Joh...| feminino|   38|               1|           0|        PC 17599| 71.28|   C85|    cherbourg|\n",
            "|           3|    sobreviveu|      3°classe|Heikkinen, Miss. ...| feminino|   26|               0|           0|STON/O2. 3101282|  7.93|  null|  southampton|\n",
            "|           4|    sobreviveu|      1°classe|Futrelle, Mrs. Ja...| feminino|   35|               1|           0|          113803|  53.1|  C123|  southampton|\n",
            "|           5|não_sobreviveu|      3°classe|Allen, Mr. Willia...|masculino|   35|               0|           0|          373450|  8.05|  null|  southampton|\n",
            "|           6|não_sobreviveu|      3°classe|    Moran, Mr. James|masculino| null|               0|           0|          330877|  8.46|  null|   queenstown|\n",
            "|           7|não_sobreviveu|      1°classe|McCarthy, Mr. Tim...|masculino|   54|               0|           0|           17463| 51.86|   E46|  southampton|\n",
            "|           8|não_sobreviveu|      3°classe|Palsson, Master. ...|masculino|    2|               3|           1|          349909| 21.08|  null|  southampton|\n",
            "|           9|    sobreviveu|      3°classe|Johnson, Mrs. Osc...| feminino|   27|               0|           2|          347742| 11.13|  null|  southampton|\n",
            "|          10|    sobreviveu|      2°classe|Nasser, Mrs. Nich...| feminino|   14|               1|           0|          237736| 30.07|  null|    cherbourg|\n",
            "|          11|    sobreviveu|      3°classe|Sandstrom, Miss. ...| feminino|    4|               1|           1|         PP 9549|  16.7|    G6|  southampton|\n",
            "|          12|    sobreviveu|      1°classe|Bonnell, Miss. El...| feminino|   58|               0|           0|          113783| 26.55|  C103|  southampton|\n",
            "|          13|não_sobreviveu|      3°classe|Saundercock, Mr. ...|masculino|   20|               0|           0|       A/5. 2151|  8.05|  null|  southampton|\n",
            "|          14|não_sobreviveu|      3°classe|Andersson, Mr. An...|masculino|   39|               1|           5|          347082| 31.28|  null|  southampton|\n",
            "|          15|não_sobreviveu|      3°classe|Vestrom, Miss. Hu...| feminino|   14|               0|           0|          350406|  7.85|  null|  southampton|\n",
            "|          16|    sobreviveu|      2°classe|Hewlett, Mrs. (Ma...| feminino|   55|               0|           0|          248706|  16.0|  null|  southampton|\n",
            "|          17|não_sobreviveu|      3°classe|Rice, Master. Eugene|masculino|    2|               4|           1|          382652| 29.13|  null|   queenstown|\n",
            "|          18|    sobreviveu|      2°classe|Williams, Mr. Cha...|masculino| null|               0|           0|          244373|  13.0|  null|  southampton|\n",
            "|          19|não_sobreviveu|      3°classe|Vander Planke, Mr...| feminino|   31|               1|           0|          345763|  18.0|  null|  southampton|\n",
            "|          20|    sobreviveu|      3°classe|Masselmani, Mrs. ...| feminino| null|               0|           0|            2649|  7.23|  null|    cherbourg|\n",
            "+------------+--------------+--------------+--------------------+---------+-----+----------------+------------+----------------+------+------+-------------+\n",
            "only showing top 20 rows\n",
            "\n"
          ]
        }
      ],
      "source": [
        "# Renomeando a coluna genero (masculino e feminino)\n",
        "TitanicDataset = TitanicDataset.withColumn(\"Genero\", when(col(\"Genero\") == \"male\", \"masculino\")\n",
        "                                           .when(col(\"Genero\") == \"female\", \"feminino\")\n",
        "                                           .otherwise(col(\"Genero\")))\n",
        "\n",
        "# Renomeando a coluna ClassePassagem\n",
        "TitanicDataset = TitanicDataset.withColumn(\"ClassePassagem\",\n",
        "                                           when(col(\"ClassePassagem\") == \"1\", \"1°classe\")\n",
        "                                           .when(col(\"ClassePassagem\") == \"2\", \"2°classe\")\n",
        "                                           .when(col(\"ClassePassagem\") == \"3\", \"3°classe\")\n",
        "                                           .otherwise(col(\"ClassePassagem\")))\n",
        "\n",
        "# Renomeando PortoEmbarque (C = Cherbourg - Q = Queenstown - S = Southampton)\n",
        "TitanicDataset = TitanicDataset.withColumn(\"PortoEmbarque\",\n",
        "                                           when(col(\"PortoEmbarque\") == \"S\", \"southampton\")\n",
        "                                           .when(col(\"PortoEmbarque\") == \"C\", \"cherbourg\")\n",
        "                                           .when(col(\"PortoEmbarque\") == \"Q\", \"queenstown\")\n",
        "                                           .otherwise(col(\"PortoEmbarque\")))\n",
        "\n",
        "# Truncando a Tarifa para duas casas\n",
        "TitanicDataset = TitanicDataset.withColumn(\"Tarifa\", round(col(\"Tarifa\"), 2))\n",
        "\n",
        "\n",
        "# Renomeando a coluna Sobrevivente (0 = não_sobreviveu e 1 = sobreviveu)\n",
        "TitanicDataset = TitanicDataset.withColumn(\"Sobrevivente\", when(col(\"Sobrevivente\") == \"0\", \"não_sobreviveu\")\n",
        "                                           .when(col(\"Sobrevivente\") == \"1\", \"sobreviveu\")\n",
        "                                           .otherwise(col(\"Sobrevivente\")))\n",
        "\n",
        "# Mostrar os dados\n",
        "TitanicDataset.show()"
      ]
    },
    {
      "cell_type": "markdown",
      "metadata": {
        "id": "59D3_YUkugoB"
      },
      "source": [
        "## Identificando valores nulos"
      ]
    },
    {
      "cell_type": "code",
      "execution_count": 20,
      "metadata": {
        "id": "XdRBwSsIul8g",
        "colab": {
          "base_uri": "https://localhost:8080/"
        },
        "outputId": "e01974b1-73cc-4bf4-f3a1-aa89c8f0468f"
      },
      "outputs": [
        {
          "output_type": "stream",
          "name": "stdout",
          "text": [
            "+------------+------------+--------------+----+------+-----+----------------+------------+--------+------+------+-------------+\n",
            "|IDpassageiro|Sobrevivente|ClassePassagem|Nome|Genero|Idade|NrIrmaosConjuges|NrPaisFilhos|NrTicket|Tarifa|Cabine|PortoEmbarque|\n",
            "+------------+------------+--------------+----+------+-----+----------------+------------+--------+------+------+-------------+\n",
            "|           0|           0|             0|   0|     0|  177|               0|           0|       0|     0|   687|            2|\n",
            "+------------+------------+--------------+----+------+-----+----------------+------------+--------+------+------+-------------+\n",
            "\n"
          ]
        }
      ],
      "source": [
        "from pyspark.sql.functions import col, count, isnan, when\n",
        "\n",
        "# Contar valores nulos em cada coluna\n",
        "TitanicDataset.select([count(when(isnan(c) | col(c).isNull(), c)).alias(c) for c in TitanicDataset.columns]).show()"
      ]
    },
    {
      "cell_type": "code",
      "execution_count": 21,
      "metadata": {
        "id": "1FZ6YkScvIk5",
        "colab": {
          "base_uri": "https://localhost:8080/"
        },
        "outputId": "a957cd60-2b4f-44ab-e9ad-f973e92ce302"
      },
      "outputs": [
        {
          "output_type": "stream",
          "name": "stdout",
          "text": [
            "+-------+-----------------+--------------+--------------+--------------------+---------+------------------+------------------+-------------------+------------------+-----------------+------+-------------+\n",
            "|summary|     IDpassageiro|  Sobrevivente|ClassePassagem|                Nome|   Genero|             Idade|  NrIrmaosConjuges|       NrPaisFilhos|          NrTicket|           Tarifa|Cabine|PortoEmbarque|\n",
            "+-------+-----------------+--------------+--------------+--------------------+---------+------------------+------------------+-------------------+------------------+-----------------+------+-------------+\n",
            "|  count|              891|           891|           891|                 891|      891|               714|               891|                891|               891|              891|   204|          889|\n",
            "|   mean|            446.0|          null|          null|                null|     null|29.679271708683473|0.5230078563411896|0.38159371492704824|260318.54916792738|32.20501683501681|  null|         null|\n",
            "| stddev|257.3538420152301|          null|          null|                null|     null|14.536482769437564|1.1027434322934315| 0.8060572211299488|471609.26868834975|49.69338859643551|  null|         null|\n",
            "|    min|                1|não_sobreviveu|      1°classe|\"Andersson, Mr. A...| feminino|                 0|                 0|                  0|            110152|              0.0|   A10|    cherbourg|\n",
            "|    max|              891|    sobreviveu|      3°classe|van Melkebeke, Mr...|masculino|                80|                 8|                  6|         WE/P 5735|           512.33|     T|  southampton|\n",
            "+-------+-----------------+--------------+--------------+--------------------+---------+------------------+------------------+-------------------+------------------+-----------------+------+-------------+\n",
            "\n"
          ]
        }
      ],
      "source": [
        "# Calcular estatísticas descritivas para todas as colunas\n",
        "TitanicDataset.describe().show()"
      ]
    },
    {
      "cell_type": "markdown",
      "metadata": {
        "id": "dCaDeYmF2Qs9"
      },
      "source": [
        "## Filtrando dados"
      ]
    },
    {
      "cell_type": "code",
      "execution_count": 22,
      "metadata": {
        "id": "su2DfTNJxb9g",
        "colab": {
          "base_uri": "https://localhost:8080/"
        },
        "outputId": "b341b65e-6e37-44ba-a4ae-2cd0c4e84fb6"
      },
      "outputs": [
        {
          "output_type": "stream",
          "name": "stdout",
          "text": [
            "+---------+-------------+-----------------+\n",
            "|   Genero|Sobreviventes|Não Sobreviventes|\n",
            "+---------+-------------+-----------------+\n",
            "|masculino|          109|              468|\n",
            "| feminino|          233|               81|\n",
            "+---------+-------------+-----------------+\n",
            "\n"
          ]
        }
      ],
      "source": [
        "from pyspark.sql import functions as F\n",
        "\n",
        "# Contar sobreviventes e não sobreviventes por gênero\n",
        "contagem_sobreviventes = TitanicDataset.groupBy('Genero').agg(\n",
        "    F.sum(F.when(col('Sobrevivente') == \"sobreviveu\", 1).otherwise(0)).alias('Sobreviventes'),\n",
        "    F.sum(F.when(col('Sobrevivente') == \"não_sobreviveu\", 1).otherwise(0)).alias('Não Sobreviventes')\n",
        ")\n",
        "\n",
        "# Mostrar o resultado\n",
        "contagem_sobreviventes.show()"
      ]
    },
    {
      "cell_type": "markdown",
      "metadata": {
        "id": "n90s2oLx2LiA"
      },
      "source": [
        "## Sumarizando os dados"
      ]
    },
    {
      "cell_type": "code",
      "execution_count": 23,
      "metadata": {
        "id": "gV4cZsqb2cHd",
        "colab": {
          "base_uri": "https://localhost:8080/"
        },
        "outputId": "8504cf41-950d-4521-dc17-997ffad275f2"
      },
      "outputs": [
        {
          "output_type": "stream",
          "name": "stdout",
          "text": [
            "+--------------+-----+\n",
            "|ClassePassagem|count|\n",
            "+--------------+-----+\n",
            "|      3°classe|  491|\n",
            "|      2°classe|  184|\n",
            "|      1°classe|  216|\n",
            "+--------------+-----+\n",
            "\n"
          ]
        }
      ],
      "source": [
        "# Contar o número de registros por classe de passagem\n",
        "contagem_por_classe = TitanicDataset.groupBy('ClassePassagem').count()\n",
        "\n",
        "# Mostrar o resultado\n",
        "contagem_por_classe.show()\n"
      ]
    },
    {
      "cell_type": "markdown",
      "source": [
        "## Visualização Grafica"
      ],
      "metadata": {
        "id": "NqgqgXjxhd0E"
      }
    },
    {
      "cell_type": "code",
      "source": [
        "!pip install matplotlib seaborn pandas"
      ],
      "metadata": {
        "id": "T9lqva5YhkLZ",
        "colab": {
          "base_uri": "https://localhost:8080/"
        },
        "outputId": "40315d93-5476-4770-d2f8-11c096423b9b"
      },
      "execution_count": 24,
      "outputs": [
        {
          "output_type": "stream",
          "name": "stdout",
          "text": [
            "Requirement already satisfied: matplotlib in /usr/local/lib/python3.10/dist-packages (3.7.1)\n",
            "Requirement already satisfied: seaborn in /usr/local/lib/python3.10/dist-packages (0.13.1)\n",
            "Requirement already satisfied: pandas in /usr/local/lib/python3.10/dist-packages (2.0.3)\n",
            "Requirement already satisfied: contourpy>=1.0.1 in /usr/local/lib/python3.10/dist-packages (from matplotlib) (1.2.1)\n",
            "Requirement already satisfied: cycler>=0.10 in /usr/local/lib/python3.10/dist-packages (from matplotlib) (0.12.1)\n",
            "Requirement already satisfied: fonttools>=4.22.0 in /usr/local/lib/python3.10/dist-packages (from matplotlib) (4.53.0)\n",
            "Requirement already satisfied: kiwisolver>=1.0.1 in /usr/local/lib/python3.10/dist-packages (from matplotlib) (1.4.5)\n",
            "Requirement already satisfied: numpy>=1.20 in /usr/local/lib/python3.10/dist-packages (from matplotlib) (1.25.2)\n",
            "Requirement already satisfied: packaging>=20.0 in /usr/local/lib/python3.10/dist-packages (from matplotlib) (24.1)\n",
            "Requirement already satisfied: pillow>=6.2.0 in /usr/local/lib/python3.10/dist-packages (from matplotlib) (9.4.0)\n",
            "Requirement already satisfied: pyparsing>=2.3.1 in /usr/local/lib/python3.10/dist-packages (from matplotlib) (3.1.2)\n",
            "Requirement already satisfied: python-dateutil>=2.7 in /usr/local/lib/python3.10/dist-packages (from matplotlib) (2.8.2)\n",
            "Requirement already satisfied: pytz>=2020.1 in /usr/local/lib/python3.10/dist-packages (from pandas) (2023.4)\n",
            "Requirement already satisfied: tzdata>=2022.1 in /usr/local/lib/python3.10/dist-packages (from pandas) (2024.1)\n",
            "Requirement already satisfied: six>=1.5 in /usr/local/lib/python3.10/dist-packages (from python-dateutil>=2.7->matplotlib) (1.16.0)\n"
          ]
        }
      ]
    },
    {
      "cell_type": "code",
      "source": [
        "import matplotlib.pyplot as plt\n",
        "import seaborn as sns\n",
        "import pandas as pd"
      ],
      "metadata": {
        "id": "dfcxdjrkhoYc"
      },
      "execution_count": 25,
      "outputs": []
    },
    {
      "cell_type": "code",
      "source": [
        "# Converte o DataFrame Spark para Pandas DataFrame\n",
        "titanic_df = TitanicDataset.toPandas()"
      ],
      "metadata": {
        "id": "gIqySnXxhsjJ"
      },
      "execution_count": 26,
      "outputs": []
    },
    {
      "cell_type": "code",
      "source": [
        "# Gráfico de Barras: Contagem de Sobreviventes por Gênero\n",
        "plt.figure(figsize=(10, 6))\n",
        "sns.countplot(data=titanic_df, x='Genero', hue='Sobrevivente')\n",
        "plt.title('Contagem de Sobreviventes por Gênero')\n",
        "plt.xlabel('Gênero')\n",
        "plt.ylabel('Contagem')\n",
        "plt.legend(title='Sobrevivente')\n",
        "plt.show()"
      ],
      "metadata": {
        "id": "Z3xxxenyhwTn",
        "colab": {
          "base_uri": "https://localhost:8080/",
          "height": 565
        },
        "outputId": "9dbc717d-8638-40e6-ac52-ea54d7b34c99"
      },
      "execution_count": 27,
      "outputs": [
        {
          "output_type": "display_data",
          "data": {
            "text/plain": [
              "<Figure size 1000x600 with 1 Axes>"
            ],
            "image/png": "[encoded data removed]"
          },
          "metadata": {}
        }
      ]
    },
    {
      "cell_type": "code",
      "source": [
        "# Gráfico de Barras: Contagem de Passageiros por Classe\n",
        "plt.figure(figsize=(10, 6))\n",
        "sns.countplot(data=titanic_df, x='ClassePassagem')\n",
        "plt.title('Contagem de Passageiros por Classe')\n",
        "plt.xlabel('Classe da Passagem')\n",
        "plt.ylabel('Contagem')\n",
        "plt.show()"
      ],
      "metadata": {
        "id": "eh0POZ8CiLDU",
        "colab": {
          "base_uri": "https://localhost:8080/",
          "height": 564
        },
        "outputId": "70ec9a3f-8c80-4efa-9bb9-6240edbee2aa"
      },
      "execution_count": 28,
      "outputs": [
        {
          "output_type": "display_data",
          "data": {
            "text/plain": [
              "<Figure size 1000x600 with 1 Axes>"
            ],
            "image/png": "[encoded data removed]"
          },
          "metadata": {}
        }
      ]
    },
    {
      "cell_type": "code",
      "source": [
        "# Histograma: Distribuição das Idades\n",
        "plt.figure(figsize=(10, 6))\n",
        "sns.histplot(data=titanic_df, x='Idade', kde=True)\n",
        "plt.title('Distribuição das Idades')\n",
        "plt.xlabel('Idade')\n",
        "plt.ylabel('Frequência')\n",
        "plt.show()"
      ],
      "metadata": {
        "id": "iJSr4yaqiPzk",
        "colab": {
          "base_uri": "https://localhost:8080/",
          "height": 564
        },
        "outputId": "866be62f-525c-42c2-ea5d-80ad50e6d819"
      },
      "execution_count": 29,
      "outputs": [
        {
          "output_type": "display_data",
          "data": {
            "text/plain": [
              "<Figure size 1000x600 with 1 Axes>"
            ],
            "image/png": "[encoded data removed]"
          },
          "metadata": {}
        }
      ]
    },
    {
      "cell_type": "code",
      "source": [
        "# Gráfico de Barras: Contagem de Sobreviventes por Porto de Embarque\n",
        "plt.figure(figsize=(10, 6))\n",
        "sns.countplot(data=titanic_df, x='PortoEmbarque', hue='Sobrevivente')\n",
        "plt.title('Contagem de Sobreviventes por Porto de Embarque')\n",
        "plt.xlabel('Porto de Embarque')\n",
        "plt.ylabel('Contagem')\n",
        "plt.legend(title='Sobrevivente')\n",
        "plt.show()"
      ],
      "metadata": {
        "id": "3ifVCUyfiUBq",
        "colab": {
          "base_uri": "https://localhost:8080/",
          "height": 564
        },
        "outputId": "62f9745b-6c21-424f-ebf7-efddd5452cb5"
      },
      "execution_count": 30,
      "outputs": [
        {
          "output_type": "display_data",
          "data": {
            "text/plain": [
              "<Figure size 1000x600 with 1 Axes>"
            ],
            "image/png": "[encoded data removed]"
          },
          "metadata": {}
        }
      ]
    },
    {
      "cell_type": "code",
      "source": [
        "# Boxplot: Idade por Gênero e Sobrevivência\n",
        "plt.figure(figsize=(10, 6))\n",
        "sns.boxplot(data=titanic_df, x='Genero', y='Idade', hue='Sobrevivente')\n",
        "plt.title('Idade por Gênero e Sobrevivência')\n",
        "plt.xlabel('Gênero')\n",
        "plt.ylabel('Idade')\n",
        "plt.legend(title='Sobrevivente')\n",
        "plt.show()"
      ],
      "metadata": {
        "id": "6WQRIoE8iZSm",
        "colab": {
          "base_uri": "https://localhost:8080/",
          "height": 565
        },
        "outputId": "0b456b17-0e0f-4fbc-e3cd-fecb1fd712d5"
      },
      "execution_count": 31,
      "outputs": [
        {
          "output_type": "display_data",
          "data": {
            "text/plain": [
              "<Figure size 1000x600 with 1 Axes>"
            ],
            "image/png": "[encoded data removed]"
          },
          "metadata": {}
        }
      ]
    },
    {
      "cell_type": "markdown",
      "metadata": {
        "id": "Z7Kmq9s87ypB"
      },
      "source": [
        "## Spark SQl"
      ]
    },
    {
      "cell_type": "code",
      "execution_count": 35,
      "metadata": {
        "id": "HcZP5p6ZslWo"
      },
      "outputs": [],
      "source": [
        "TitanicDataset.createOrReplaceTempView(\"titanicView\")"
      ]
    },
    {
      "cell_type": "code",
      "execution_count": 34,
      "metadata": {
        "id": "HhT9hNqftIk1",
        "colab": {
          "base_uri": "https://localhost:8080/"
        },
        "outputId": "bae99dd4-4412-4e5c-c66c-785b2e478d5e"
      },
      "outputs": [
        {
          "output_type": "stream",
          "name": "stdout",
          "text": [
            "+------------+--------------+--------------+--------------------+---------+-----+----------------+------------+----------------+------+------+-------------+\n",
            "|IDpassageiro|  Sobrevivente|ClassePassagem|                Nome|   Genero|Idade|NrIrmaosConjuges|NrPaisFilhos|        NrTicket|Tarifa|Cabine|PortoEmbarque|\n",
            "+------------+--------------+--------------+--------------------+---------+-----+----------------+------------+----------------+------+------+-------------+\n",
            "|           1|não_sobreviveu|      3°classe|Braund, Mr. Owen ...|masculino|   22|               1|           0|       A/5 21171|  7.25|  null|  southampton|\n",
            "|           2|    sobreviveu|      1°classe|Cumings, Mrs. Joh...| feminino|   38|               1|           0|        PC 17599| 71.28|   C85|    cherbourg|\n",
            "|           3|    sobreviveu|      3°classe|Heikkinen, Miss. ...| feminino|   26|               0|           0|STON/O2. 3101282|  7.93|  null|  southampton|\n",
            "|           4|    sobreviveu|      1°classe|Futrelle, Mrs. Ja...| feminino|   35|               1|           0|          113803|  53.1|  C123|  southampton|\n",
            "|           5|não_sobreviveu|      3°classe|Allen, Mr. Willia...|masculino|   35|               0|           0|          373450|  8.05|  null|  southampton|\n",
            "+------------+--------------+--------------+--------------------+---------+-----+----------------+------------+----------------+------+------+-------------+\n",
            "only showing top 5 rows\n",
            "\n"
          ]
        }
      ],
      "source": [
        "spark.sql(\"SELECT*FROM titanicView\").show(5)"
      ]
    },
    {
      "cell_type": "code",
      "execution_count": 33,
      "metadata": {
        "id": "P__50uWHuewE",
        "colab": {
          "base_uri": "https://localhost:8080/"
        },
        "outputId": "6be8e19e-855b-4f7a-a84f-1bc2fd6085db"
      },
      "outputs": [
        {
          "output_type": "stream",
          "name": "stdout",
          "text": [
            "+------------+------------+--------------+--------------------+---------+-----+----------------+------------+--------+------+-------+-------------+\n",
            "|IDpassageiro|Sobrevivente|ClassePassagem|                Nome|   Genero|Idade|NrIrmaosConjuges|NrPaisFilhos|NrTicket|Tarifa| Cabine|PortoEmbarque|\n",
            "+------------+------------+--------------+--------------------+---------+-----+----------------+------------+--------+------+-------+-------------+\n",
            "|          79|  sobreviveu|      2°classe|Caldwell, Master....|masculino|    0|               0|           2|  248738|  29.0|   null|  southampton|\n",
            "|         306|  sobreviveu|      1°classe|Allison, Master. ...|masculino|    0|               1|           2|  113781|151.55|C22 C26|  southampton|\n",
            "|         470|  sobreviveu|      3°classe|Baclini, Miss. He...| feminino|    0|               2|           1|    2666| 19.26|   null|    cherbourg|\n",
            "|         645|  sobreviveu|      3°classe|Baclini, Miss. Eu...| feminino|    0|               2|           1|    2666| 19.26|   null|    cherbourg|\n",
            "|         756|  sobreviveu|      2°classe|Hamalainen, Maste...|masculino|    0|               1|           1|  250649|  14.5|   null|  southampton|\n",
            "|         804|  sobreviveu|      3°classe|Thomas, Master. A...|masculino|    0|               0|           1|    2625|  8.52|   null|    cherbourg|\n",
            "|         832|  sobreviveu|      2°classe|Richards, Master....|masculino|    0|               1|           1|   29106| 18.75|   null|  southampton|\n",
            "+------------+------------+--------------+--------------------+---------+-----+----------------+------------+--------+------+-------+-------------+\n",
            "\n"
          ]
        }
      ],
      "source": [
        "spark\\\n",
        ".sql(\"\"\"\n",
        "    SELECT *\n",
        "    FROM titanicView\n",
        "    WHERE Idade = 0\n",
        "\n",
        "\"\"\")\\\n",
        ".show()"
      ]
    },
    {
      "cell_type": "markdown",
      "metadata": {
        "id": "wZbkyCut72A6"
      },
      "source": [
        "## Armazenando em CSV"
      ]
    },
    {
      "cell_type": "code",
      "execution_count": 36,
      "metadata": {
        "id": "pSVkkhB_wEiD"
      },
      "outputs": [],
      "source": [
        "# Escreve o DataFrame atualizado em um novo arquivo CSV\n",
        "TitanicDataset.write.csv(\n",
        "    path='/content/drive/MyDrive/UFMT/spark_titanic/csv',\n",
        "    mode='overwrite',\n",
        "    sep=';',\n",
        "    header=True\n",
        ")"
      ]
    },
    {
      "cell_type": "code",
      "execution_count": 37,
      "metadata": {
        "id": "dG8kOL84xDV2",
        "colab": {
          "base_uri": "https://localhost:8080/"
        },
        "outputId": "e5037698-dedf-4d91-f921-a9190cd567d1"
      },
      "outputs": [
        {
          "output_type": "stream",
          "name": "stdout",
          "text": [
            "root\n",
            " |-- IDpassageiro: integer (nullable = true)\n",
            " |-- Sobrevivente: string (nullable = true)\n",
            " |-- ClassePassagem: string (nullable = true)\n",
            " |-- Nome: string (nullable = true)\n",
            " |-- Genero: string (nullable = true)\n",
            " |-- Idade: integer (nullable = true)\n",
            " |-- NrIrmaosConjuges: integer (nullable = true)\n",
            " |-- NrPaisFilhos: integer (nullable = true)\n",
            " |-- NrTicket: string (nullable = true)\n",
            " |-- Tarifa: double (nullable = true)\n",
            " |-- Cabine: string (nullable = true)\n",
            " |-- PortoEmbarque: string (nullable = true)\n",
            "\n"
          ]
        }
      ],
      "source": [
        "# Carregar o arquivo CSV no Spark DataFrame\n",
        "TitanicDataset2 = spark.read.csv(\n",
        "    '/content/drive/MyDrive/UFMT/spark_titanic/csv',  # Certifique-se de que este é o caminho correto\n",
        "    sep=';',\n",
        "    inferSchema=True,\n",
        "    header=True\n",
        ")\n",
        "\n",
        "# Mostrar o Schema do novo DataFrame\n",
        "TitanicDataset2.printSchema()"
      ]
    },
    {
      "cell_type": "markdown",
      "metadata": {
        "id": "cL1wJZ408C6G"
      },
      "source": [
        "## Armazenando em Parquet"
      ]
    },
    {
      "cell_type": "code",
      "execution_count": 38,
      "metadata": {
        "id": "XPQDhnjMz1lU"
      },
      "outputs": [],
      "source": [
        "# Salvar o DataFrame atualizado em um novo arquivo Parquet\n",
        "TitanicDataset.write.parquet(\n",
        "    path='/content/drive/MyDrive/UFMT/spark_titanic/parquet',\n",
        "    mode='overwrite',\n",
        ")"
      ]
    },
    {
      "cell_type": "code",
      "execution_count": 39,
      "metadata": {
        "id": "clVUcECN0wUD",
        "colab": {
          "base_uri": "https://localhost:8080/"
        },
        "outputId": "3832ccea-30d4-4dbe-d46e-0008559a86c2"
      },
      "outputs": [
        {
          "output_type": "stream",
          "name": "stdout",
          "text": [
            "root\n",
            " |-- IDpassageiro: integer (nullable = true)\n",
            " |-- Sobrevivente: string (nullable = true)\n",
            " |-- ClassePassagem: string (nullable = true)\n",
            " |-- Nome: string (nullable = true)\n",
            " |-- Genero: string (nullable = true)\n",
            " |-- Idade: integer (nullable = true)\n",
            " |-- NrIrmaosConjuges: integer (nullable = true)\n",
            " |-- NrPaisFilhos: integer (nullable = true)\n",
            " |-- NrTicket: string (nullable = true)\n",
            " |-- Tarifa: double (nullable = true)\n",
            " |-- Cabine: string (nullable = true)\n",
            " |-- PortoEmbarque: string (nullable = true)\n",
            "\n",
            "+------------+--------------+--------------+--------------------+---------+-----+----------------+------------+----------------+------+------+-------------+\n",
            "|IDpassageiro|  Sobrevivente|ClassePassagem|                Nome|   Genero|Idade|NrIrmaosConjuges|NrPaisFilhos|        NrTicket|Tarifa|Cabine|PortoEmbarque|\n",
            "+------------+--------------+--------------+--------------------+---------+-----+----------------+------------+----------------+------+------+-------------+\n",
            "|           1|não_sobreviveu|      3°classe|Braund, Mr. Owen ...|masculino|   22|               1|           0|       A/5 21171|  7.25|  null|  southampton|\n",
            "|           2|    sobreviveu|      1°classe|Cumings, Mrs. Joh...| feminino|   38|               1|           0|        PC 17599| 71.28|   C85|    cherbourg|\n",
            "|           3|    sobreviveu|      3°classe|Heikkinen, Miss. ...| feminino|   26|               0|           0|STON/O2. 3101282|  7.93|  null|  southampton|\n",
            "|           4|    sobreviveu|      1°classe|Futrelle, Mrs. Ja...| feminino|   35|               1|           0|          113803|  53.1|  C123|  southampton|\n",
            "|           5|não_sobreviveu|      3°classe|Allen, Mr. Willia...|masculino|   35|               0|           0|          373450|  8.05|  null|  southampton|\n",
            "|           6|não_sobreviveu|      3°classe|    Moran, Mr. James|masculino| null|               0|           0|          330877|  8.46|  null|   queenstown|\n",
            "|           7|não_sobreviveu|      1°classe|McCarthy, Mr. Tim...|masculino|   54|               0|           0|           17463| 51.86|   E46|  southampton|\n",
            "|           8|não_sobreviveu|      3°classe|Palsson, Master. ...|masculino|    2|               3|           1|          349909| 21.08|  null|  southampton|\n",
            "|           9|    sobreviveu|      3°classe|Johnson, Mrs. Osc...| feminino|   27|               0|           2|          347742| 11.13|  null|  southampton|\n",
            "|          10|    sobreviveu|      2°classe|Nasser, Mrs. Nich...| feminino|   14|               1|           0|          237736| 30.07|  null|    cherbourg|\n",
            "|          11|    sobreviveu|      3°classe|Sandstrom, Miss. ...| feminino|    4|               1|           1|         PP 9549|  16.7|    G6|  southampton|\n",
            "|          12|    sobreviveu|      1°classe|Bonnell, Miss. El...| feminino|   58|               0|           0|          113783| 26.55|  C103|  southampton|\n",
            "|          13|não_sobreviveu|      3°classe|Saundercock, Mr. ...|masculino|   20|               0|           0|       A/5. 2151|  8.05|  null|  southampton|\n",
            "|          14|não_sobreviveu|      3°classe|Andersson, Mr. An...|masculino|   39|               1|           5|          347082| 31.28|  null|  southampton|\n",
            "|          15|não_sobreviveu|      3°classe|Vestrom, Miss. Hu...| feminino|   14|               0|           0|          350406|  7.85|  null|  southampton|\n",
            "|          16|    sobreviveu|      2°classe|Hewlett, Mrs. (Ma...| feminino|   55|               0|           0|          248706|  16.0|  null|  southampton|\n",
            "|          17|não_sobreviveu|      3°classe|Rice, Master. Eugene|masculino|    2|               4|           1|          382652| 29.13|  null|   queenstown|\n",
            "|          18|    sobreviveu|      2°classe|Williams, Mr. Cha...|masculino| null|               0|           0|          244373|  13.0|  null|  southampton|\n",
            "|          19|não_sobreviveu|      3°classe|Vander Planke, Mr...| feminino|   31|               1|           0|          345763|  18.0|  null|  southampton|\n",
            "|          20|    sobreviveu|      3°classe|Masselmani, Mrs. ...| feminino| null|               0|           0|            2649|  7.23|  null|    cherbourg|\n",
            "+------------+--------------+--------------+--------------------+---------+-----+----------------+------------+----------------+------+------+-------------+\n",
            "only showing top 20 rows\n",
            "\n"
          ]
        }
      ],
      "source": [
        "# Carregar o arquivo Parquet no Spark DataFrame\n",
        "TitanicDataset2 = spark.read.parquet('/content/drive/MyDrive/UFMT/spark_titanic/parquet')\n",
        "\n",
        "# Mostrar o Schema do novo DataFrame\n",
        "TitanicDataset2.printSchema()\n",
        "\n",
        "# Mostrar as primeiras linhas do DataFrame\n",
        "TitanicDataset2.show()"
      ]
    },
    {
      "cell_type": "markdown",
      "metadata": {
        "id": "IvX2Kf6W8Nlb"
      },
      "source": [
        "## Particionamento de dados"
      ]
    },
    {
      "cell_type": "code",
      "execution_count": 40,
      "metadata": {
        "id": "SF0ylaP_1TiC"
      },
      "outputs": [],
      "source": [
        "# Salvar o DataFrame atualizado em um novo arquivo Parquet, particionado por 'Genero'\n",
        "TitanicDataset.write.parquet(\n",
        "    path='/content/drive/MyDrive/UFMT/spark_titanic/parquet_particionado',\n",
        "    mode='overwrite',\n",
        "    partitionBy='Genero'\n",
        ")"
      ]
    },
    {
      "cell_type": "code",
      "execution_count": 41,
      "metadata": {
        "id": "LMLC8Uy31i-v",
        "colab": {
          "base_uri": "https://localhost:8080/"
        },
        "outputId": "4589f2ea-b79d-4de8-f0dd-7e0ea7bbb83b"
      },
      "outputs": [
        {
          "output_type": "stream",
          "name": "stdout",
          "text": [
            "+------------+--------------+--------------+--------------------+-----+----------------+------------+----------+------+-----------+-------------+---------+\n",
            "|IDpassageiro|  Sobrevivente|ClassePassagem|                Nome|Idade|NrIrmaosConjuges|NrPaisFilhos|  NrTicket|Tarifa|     Cabine|PortoEmbarque|   Genero|\n",
            "+------------+--------------+--------------+--------------------+-----+----------------+------------+----------+------+-----------+-------------+---------+\n",
            "|           1|não_sobreviveu|      3°classe|Braund, Mr. Owen ...|   22|               1|           0| A/5 21171|  7.25|       null|  southampton|masculino|\n",
            "|           5|não_sobreviveu|      3°classe|Allen, Mr. Willia...|   35|               0|           0|    373450|  8.05|       null|  southampton|masculino|\n",
            "|           6|não_sobreviveu|      3°classe|    Moran, Mr. James| null|               0|           0|    330877|  8.46|       null|   queenstown|masculino|\n",
            "|           7|não_sobreviveu|      1°classe|McCarthy, Mr. Tim...|   54|               0|           0|     17463| 51.86|        E46|  southampton|masculino|\n",
            "|           8|não_sobreviveu|      3°classe|Palsson, Master. ...|    2|               3|           1|    349909| 21.08|       null|  southampton|masculino|\n",
            "|          13|não_sobreviveu|      3°classe|Saundercock, Mr. ...|   20|               0|           0| A/5. 2151|  8.05|       null|  southampton|masculino|\n",
            "|          14|não_sobreviveu|      3°classe|Andersson, Mr. An...|   39|               1|           5|    347082| 31.28|       null|  southampton|masculino|\n",
            "|          17|não_sobreviveu|      3°classe|Rice, Master. Eugene|    2|               4|           1|    382652| 29.13|       null|   queenstown|masculino|\n",
            "|          18|    sobreviveu|      2°classe|Williams, Mr. Cha...| null|               0|           0|    244373|  13.0|       null|  southampton|masculino|\n",
            "|          21|não_sobreviveu|      2°classe|Fynney, Mr. Joseph J|   35|               0|           0|    239865|  26.0|       null|  southampton|masculino|\n",
            "|          22|    sobreviveu|      2°classe|Beesley, Mr. Lawr...|   34|               0|           0|    248698|  13.0|        D56|  southampton|masculino|\n",
            "|          24|    sobreviveu|      1°classe|Sloper, Mr. Willi...|   28|               0|           0|    113788|  35.5|         A6|  southampton|masculino|\n",
            "|          27|não_sobreviveu|      3°classe|Emir, Mr. Farred ...| null|               0|           0|      2631|  7.23|       null|    cherbourg|masculino|\n",
            "|          28|não_sobreviveu|      1°classe|Fortune, Mr. Char...|   19|               3|           2|     19950| 263.0|C23 C25 C27|  southampton|masculino|\n",
            "|          30|não_sobreviveu|      3°classe| Todoroff, Mr. Lalio| null|               0|           0|    349216|   7.9|       null|  southampton|masculino|\n",
            "|          31|não_sobreviveu|      1°classe|Uruchurtu, Don. M...|   40|               0|           0|  PC 17601| 27.72|       null|    cherbourg|masculino|\n",
            "|          34|não_sobreviveu|      2°classe|Wheadon, Mr. Edwa...|   66|               0|           0|C.A. 24579|  10.5|       null|  southampton|masculino|\n",
            "|          35|não_sobreviveu|      1°classe|Meyer, Mr. Edgar ...|   28|               1|           0|  PC 17604| 82.17|       null|    cherbourg|masculino|\n",
            "|          36|não_sobreviveu|      1°classe|Holverson, Mr. Al...|   42|               1|           0|    113789|  52.0|       null|  southampton|masculino|\n",
            "|          37|    sobreviveu|      3°classe|    Mamee, Mr. Hanna| null|               0|           0|      2677|  7.23|       null|    cherbourg|masculino|\n",
            "+------------+--------------+--------------+--------------------+-----+----------------+------------+----------+------+-----------+-------------+---------+\n",
            "only showing top 20 rows\n",
            "\n"
          ]
        }
      ],
      "source": [
        "# Carregar o arquivo Parquet particionado no Spark DataFrame\n",
        "TitanicDatasetParticionado = spark.read.parquet('/content/drive/MyDrive/UFMT/spark_titanic/parquet_particionado')\n",
        "\n",
        "# Mostrar as primeiras linhas do DataFrame\n",
        "TitanicDatasetParticionado.show()\n"
      ]
    },
    {
      "cell_type": "code",
      "execution_count": 42,
      "metadata": {
        "id": "ei57R64r2X81",
        "colab": {
          "base_uri": "https://localhost:8080/"
        },
        "outputId": "85e41972-f53e-4de4-ef57-a40be5ec55d0"
      },
      "outputs": [
        {
          "output_type": "stream",
          "name": "stdout",
          "text": [
            "root\n",
            " |-- IDpassageiro: integer (nullable = true)\n",
            " |-- Sobrevivente: string (nullable = true)\n",
            " |-- ClassePassagem: string (nullable = true)\n",
            " |-- Nome: string (nullable = true)\n",
            " |-- Idade: integer (nullable = true)\n",
            " |-- NrIrmaosConjuges: integer (nullable = true)\n",
            " |-- NrPaisFilhos: integer (nullable = true)\n",
            " |-- NrTicket: string (nullable = true)\n",
            " |-- Tarifa: double (nullable = true)\n",
            " |-- Cabine: string (nullable = true)\n",
            " |-- PortoEmbarque: string (nullable = true)\n",
            " |-- Genero: string (nullable = true)\n",
            "\n",
            "+------------+--------------+--------------+--------------------+-----+----------------+------------+----------------+------+------+-------------+--------+\n",
            "|IDpassageiro|  Sobrevivente|ClassePassagem|                Nome|Idade|NrIrmaosConjuges|NrPaisFilhos|        NrTicket|Tarifa|Cabine|PortoEmbarque|  Genero|\n",
            "+------------+--------------+--------------+--------------------+-----+----------------+------------+----------------+------+------+-------------+--------+\n",
            "|           2|    sobreviveu|      1°classe|Cumings, Mrs. Joh...|   38|               1|           0|        PC 17599| 71.28|   C85|    cherbourg|feminino|\n",
            "|           3|    sobreviveu|      3°classe|Heikkinen, Miss. ...|   26|               0|           0|STON/O2. 3101282|  7.93|  null|  southampton|feminino|\n",
            "|           4|    sobreviveu|      1°classe|Futrelle, Mrs. Ja...|   35|               1|           0|          113803|  53.1|  C123|  southampton|feminino|\n",
            "|           9|    sobreviveu|      3°classe|Johnson, Mrs. Osc...|   27|               0|           2|          347742| 11.13|  null|  southampton|feminino|\n",
            "|          10|    sobreviveu|      2°classe|Nasser, Mrs. Nich...|   14|               1|           0|          237736| 30.07|  null|    cherbourg|feminino|\n",
            "|          11|    sobreviveu|      3°classe|Sandstrom, Miss. ...|    4|               1|           1|         PP 9549|  16.7|    G6|  southampton|feminino|\n",
            "|          12|    sobreviveu|      1°classe|Bonnell, Miss. El...|   58|               0|           0|          113783| 26.55|  C103|  southampton|feminino|\n",
            "|          15|não_sobreviveu|      3°classe|Vestrom, Miss. Hu...|   14|               0|           0|          350406|  7.85|  null|  southampton|feminino|\n",
            "|          16|    sobreviveu|      2°classe|Hewlett, Mrs. (Ma...|   55|               0|           0|          248706|  16.0|  null|  southampton|feminino|\n",
            "|          19|não_sobreviveu|      3°classe|Vander Planke, Mr...|   31|               1|           0|          345763|  18.0|  null|  southampton|feminino|\n",
            "|          20|    sobreviveu|      3°classe|Masselmani, Mrs. ...| null|               0|           0|            2649|  7.23|  null|    cherbourg|feminino|\n",
            "|          23|    sobreviveu|      3°classe|\"McGowan, Miss. A...|   15|               0|           0|          330923|  8.03|  null|   queenstown|feminino|\n",
            "|          25|não_sobreviveu|      3°classe|Palsson, Miss. To...|    8|               3|           1|          349909| 21.08|  null|  southampton|feminino|\n",
            "|          26|    sobreviveu|      3°classe|Asplund, Mrs. Car...|   38|               1|           5|          347077| 31.39|  null|  southampton|feminino|\n",
            "|          29|    sobreviveu|      3°classe|\"O'Dwyer, Miss. E...| null|               0|           0|          330959|  7.88|  null|   queenstown|feminino|\n",
            "|          32|    sobreviveu|      1°classe|Spencer, Mrs. Wil...| null|               1|           0|        PC 17569|146.52|   B78|    cherbourg|feminino|\n",
            "|          33|    sobreviveu|      3°classe|Glynn, Miss. Mary...| null|               0|           0|          335677|  7.75|  null|   queenstown|feminino|\n",
            "|          39|não_sobreviveu|      3°classe|Vander Planke, Mi...|   18|               2|           0|          345764|  18.0|  null|  southampton|feminino|\n",
            "|          40|    sobreviveu|      3°classe|Nicola-Yarred, Mi...|   14|               1|           0|            2651| 11.24|  null|    cherbourg|feminino|\n",
            "|          41|não_sobreviveu|      3°classe|Ahlin, Mrs. Johan...|   40|               1|           0|            7546|  9.48|  null|  southampton|feminino|\n",
            "+------------+--------------+--------------+--------------------+-----+----------------+------------+----------------+------+------+-------------+--------+\n",
            "only showing top 20 rows\n",
            "\n"
          ]
        }
      ],
      "source": [
        "# Carregar apenas os dados particionados pelo valor 'Feminino' na coluna 'Genero'\n",
        "\n",
        "# Filtrar os dados para obter apenas as linhas onde 'Genero' é 'Feminino'\n",
        "feminino_df = TitanicDatasetParticionado.filter(TitanicDatasetParticionado.Genero == 'feminino')\n",
        "\n",
        "# Mostrar o Schema do novo DataFrame\n",
        "feminino_df.printSchema()\n",
        "\n",
        "# Mostrar as primeiras linhas do DataFrame\n",
        "feminino_df.show()"
      ]
    }
  ],
  "metadata": {
    "colab": {
      "provenance": [],
      "include_colab_link": true
    },
    "kernelspec": {
      "display_name": "Python 3",
      "name": "python3"
    },
    "language_info": {
      "name": "python"
    }
  },
  "nbformat": 4,
  "nbformat_minor": 0
}